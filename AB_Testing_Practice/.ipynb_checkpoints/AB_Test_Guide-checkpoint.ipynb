{
 "cells": [
  {
   "cell_type": "markdown",
   "id": "cde28839-bfd5-4b8c-ad04-cf6d82b12da0",
   "metadata": {},
   "source": [
    "Taylor Manivanh\n",
    "8/23/2022\n",
    "AB Testing\n",
    "\n",
    "# What is A/B testing?\n",
    "\n",
    "A/B testing is one of the most popular controlled experiments used to optimize web marketing strategies. It allows decision makers to choose the best design for a website by looking at the analytics results obtained with two possible alternatives A and B.\n",
    "\n",
    "**A/B Testing Methodology**\n",
    "- Visitors of a website are randomly served with one of the two designs (A and B)\n",
    "- Data about their activity is collected by web analytics\n",
    "- Given this data, one can apply statistical tests to determine whether one of the two designs has better efficacy\n",
    "\n",
    "**Website Efficacy**\n",
    "Discrete metrics (aka binomial metrics) have only the two possible values of 0 and 1\n",
    "- Click through rate: if a user is shown an advertisement, do they click on it?\n",
    "- Conversion rate: If a user is shown an advert, do they convert into customers?\n",
    "- Bounce rate: if a user visits a website, is the following visited page on the same website?\n",
    "\n",
    "Continuous metrics (aka nonbinomial metrics) may take continuous values that are not limited to a set two discrete states\n",
    "- Average revenue per user: how much revenue does a user generate in a month?\n",
    "- Average session duration: how long does a user stay on a website in a session?\n",
    "- Average order value: what is the total value of the order of a user?\n",
    "\n",
    "**Statistical Significance**\n",
    "- It is fundamental to determine how likely it is that the observed discrepancy between the two samples originates from chance."
   ]
  },
  {
   "cell_type": "code",
   "execution_count": 2,
   "id": "aa524878-9423-4dbe-a48a-74c11f74c051",
   "metadata": {},
   "outputs": [],
   "source": [
    "# Import Statements\n",
    "import matplotlib.pyplot as plt\n",
    "import numpy as np\n",
    "import pandas as pd\n",
    "from scipy.special import binom\n",
    "from scipy.stats import chi2_contingency, mannwhitneyu, norm, t, ttest_ind\n",
    "\n",
    "%matplotlib inline"
   ]
  },
  {
   "cell_type": "markdown",
   "id": "c6a4877d-d914-4402-a82f-7ce4a7e350f4",
   "metadata": {},
   "source": [
    "## Two Sample Hypothesis Test\n",
    "A two tailed test is a significance test in which alternative hypothesis has two ends. It determines that there is a relationship between variables in either direction. \n",
    "\n",
    "- Null Hypothesis: There is no significant difference between the efficacy of A and B\n",
    "- Alternate Hypothesis: There is a significant difference between the efficacy of A and B\n",
    "- p-value: is computed as the area under the two tails fo the probability density dunction (p(x)) of a chosen test statistic on all x's to p(x') <= p(our observation)\n",
    "    - The computation of such p-value clearly depends on the data distribution"
   ]
  },
  {
   "cell_type": "markdown",
   "id": "adc007ef-7eed-4cee-b6aa-0ee138b4db9f",
   "metadata": {},
   "source": [
    "## 1. Discrete Metrics\n",
    "\n",
    "Looking at click-though rate. We randomly show visitors one of two possible designs of an advertisement, and based on how many of them click on it we need to determine whether our data significantly contradict the hypothesis that the two designs are equivalently efficient."
   ]
  },
  {
   "cell_type": "code",
   "execution_count": 3,
   "id": "a638c785-68ba-4c2c-a223-b90e2f6b2d67",
   "metadata": {},
   "outputs": [
    {
     "name": "stdout",
     "output_type": "stream",
     "text": [
      "- Observations:\n",
      "  - Version A: = [1 0 0 1 1 1 1 0 0 0 1 0 0 1 1]\n",
      "  - Version B: = [0 0 0 0 0 1 0 0 0 0 1 0 0 0 0 1 0 0 1]\n",
      "\n",
      "- Contingency table:\n"
     ]
    },
    {
     "data": {
      "text/html": [
       "<div>\n",
       "<style scoped>\n",
       "    .dataframe tbody tr th:only-of-type {\n",
       "        vertical-align: middle;\n",
       "    }\n",
       "\n",
       "    .dataframe tbody tr th {\n",
       "        vertical-align: top;\n",
       "    }\n",
       "\n",
       "    .dataframe thead th {\n",
       "        text-align: right;\n",
       "    }\n",
       "</style>\n",
       "<table border=\"1\" class=\"dataframe\">\n",
       "  <thead>\n",
       "    <tr style=\"text-align: right;\">\n",
       "      <th></th>\n",
       "      <th>A</th>\n",
       "      <th>B</th>\n",
       "    </tr>\n",
       "  </thead>\n",
       "  <tbody>\n",
       "    <tr>\n",
       "      <th>click</th>\n",
       "      <td>7</td>\n",
       "      <td>15</td>\n",
       "    </tr>\n",
       "    <tr>\n",
       "      <th>no click</th>\n",
       "      <td>8</td>\n",
       "      <td>4</td>\n",
       "    </tr>\n",
       "  </tbody>\n",
       "</table>\n",
       "</div>"
      ],
      "text/plain": [
       "          A   B\n",
       "click     7  15\n",
       "no click  8   4"
      ]
     },
     "metadata": {},
     "output_type": "display_data"
    }
   ],
   "source": [
    "np.random.seed(42)\n",
    "\n",
    "x = np.random.binomial(n=1, p=0.6, size=15)\n",
    "y = np.random.binomial(n=1, p=0.4, size=19)\n",
    "\n",
    "_, (a, c) = np.unique(x, return_counts=True)\n",
    "_, (b, d) = np.unique(y, return_counts=True)\n",
    "\n",
    "df = pd.DataFrame(data=[[a, b], [c, d]], \n",
    "                 index=[\"click\", \"no click\"], \n",
    "                 columns=[\"A\", \"B\"])\n",
    "m = df.values\n",
    "\n",
    "print(\"- Observations:\")\n",
    "print(f\"  - Version A: = {x}\")\n",
    "print(f\"  - Version B: = {y}\")\n",
    "print(\"\")\n",
    "print(\"- Contingency table:\")\n",
    "display(df)"
   ]
  },
  {
   "cell_type": "markdown",
   "id": "88eb16dc-56fc-4fca-87ef-fce60cb59c7a",
   "metadata": {},
   "source": [
    "- nX = 15 visitors saw the advertisement A, and 7 of them clicked on it.\n",
    "- nY = 19 visitors saw the advertisement B, and 15 of them clicked on it.\n",
    "\n",
    "Looks like B was more effective, but how statistically siginificant is this discrepancy?"
   ]
  },
  {
   "cell_type": "markdown",
   "id": "a91aaab0-5ac8-43fb-ab0f-f418e1c7b5ff",
   "metadata": {},
   "source": [
    "### 1a. Fisher's Exact Test\n",
    "**Fisher's Exact Test**: statistical significance test used in the analysis of contingency tables. It is used to examine the significance of the association (contingency) between the two kinds of classification. \n",
    "Since we have a 2x2 contingency table we can use Fisher's exact test to compute an exact p-value and test our hypothesis.\n",
    "\n",
    "\n",
    "**Hypergeometric Distribution**: is a discrete probability distribution that describes the probability of *k* successes (random draws for which the object drawn has a specified feature) in *n* draws, without replacement, from a finite population of size *N* that contains exactly *K* objects with that feature, wherein each draw is either a success or a failure."
   ]
  },
  {
   "cell_type": "code",
   "execution_count": 4,
   "id": "1a2ff022-2a8b-4526-ae0c-18332b84948f",
   "metadata": {},
   "outputs": [],
   "source": [
    "def hypergeom(k, K, n, N):\n",
    "    \"\"\"Probability mass funciton of the hypergeometric distribution.\"\"\"\n",
    "    return binom(K, k) * binom(N-K, n-k) / binom(N, n)\n",
    "\n",
    "\n",
    "def fisher_prob(m):\n",
    "    \"\"\"Probability of a given observed contingency table according to Fisher's exact test.\"\"\"\n",
    "    ((a, b), (c ,d)) = m\n",
    "    k = a\n",
    "    K = a+b\n",
    "    n = a+c\n",
    "    N = a+b+c+d\n",
    "    return hypergeom(k, K, n, N)\n",
    "\n",
    "def fisher_probs_histogram(m):\n",
    "    \"\"\"Computes prob mass function histogram accroding to Fisher's exact test.\"\"\"\n",
    "    neg_val = -min(m[0,0], m[1,1])\n",
    "    pos_val = min(m[1,0], m[1,0])\n",
    "    probs = []\n",
    "    for k in range(neg_val, pos_val+1):\n",
    "        m1 = m + np.array([[1, -1], [-1, 1]]) * k\n",
    "        probs.append(fisher_prob(m1))\n",
    "    return probs"
   ]
  },
  {
   "cell_type": "code",
   "execution_count": 5,
   "id": "6b4c095d-cf52-4a46-8542-e9f68c48e5ea",
   "metadata": {},
   "outputs": [
    {
     "name": "stdout",
     "output_type": "stream",
     "text": [
      "- Fisher's exact test: p-val = 7.5%\n"
     ]
    },
    {
     "data": {
      "image/png": "[encoded data removed]",
      "text/plain": [
       "<Figure size 432x216 with 1 Axes>"
      ]
     },
     "metadata": {
      "needs_background": "light"
     },
     "output_type": "display_data"
    }
   ],
   "source": [
    "bars_h = np.array(fisher_probs_histogram(m))\n",
    "\n",
    "f, ax = plt.subplots(figsize=(6, 3))\n",
    "ii = np.arange(len(bars_h))\n",
    "ax.bar(ii, bars_h)\n",
    "idxs = bars_h <= fisher_prob(m)\n",
    "ax.bar(ii[idxs], bars_h[idxs], color='r')\n",
    "ax.set_ylabel(\"prob density\")\n",
    "p_val = bars_h[idxs].sum()\n",
    "neg_val = -min(m[0,0], m[1,1])\n",
    "pos_val = min(m[1,0], m[1,0])\n",
    "ax.bar(ii[-neg_val], bars_h[-neg_val], color='orange')\n",
    "\n",
    "ax.set_xticks(ii)\n",
    "ax.set_xticklabels(np.arange(neg_val, pos_val+1))\n",
    "f.tight_layout()\n",
    "print(f\"- Fisher's exact test: p-val = {100*p_val:.1f}%\")"
   ]
  },
  {
   "cell_type": "markdown",
   "id": "6806377e-c112-4212-acac-21fc25b69bb0",
   "metadata": {},
   "source": [
    "- the probability of seeing our actual observations is ~4.5%\n",
    "- the probability of seeing even more unlikely observations in favor if B is ~1.0% (red left tail);\n",
    "- the probability of seeing observations even more unlikely observations in favor if A is ~2.0% (red right tail).\n",
    "- The Fisher's exact test gives p-value = ~7.5% (orange)"
   ]
  },
  {
   "cell_type": "markdown",
   "id": "72066a9f-b7cb-410e-8b9b-5644730d0309",
   "metadata": {},
   "source": [
    "### 1b. Pearson's Chi Squared Test\n",
    "**Pearson's Chi Squared Test**: A statistical test applied to sets of categorical data to evaluate how likely it is that any observed difference between the sets arose by chance. For large sample sizes, we can use Pearson's chi-squared test to compute an approximate p-value. \n",
    "- Moreover, if the observations are normally distributed, then the χ2 statistic follows exactly a chi-square distribution with 1 degree of freedom.\n",
    "- In fact, this test can also be used with non-normal observations if the sample size is large enough, thanks to the central limit theorem."
   ]
  },
  {
   "cell_type": "code",
   "execution_count": 6,
   "id": "0e236c17-acef-4001-81f6-c16a5e3201cd",
   "metadata": {},
   "outputs": [
    {
     "name": "stdout",
     "output_type": "stream",
     "text": [
      "- Pearson's chi-squared t-test:\n",
      "   - χ2 value: 3.825\n",
      "   - p-value: 5.1%\n"
     ]
    }
   ],
   "source": [
    "chi2_val, p_val = chi2_contingency(m, correction=False)[:2]\n",
    "\n",
    "print(\"- Pearson's chi-squared t-test:\")\n",
    "print(f\"   - χ2 value: {chi2_val:.3f}\")\n",
    "print(f\"   - p-value: {p_val*100:.1f}%\")"
   ]
  },
  {
   "cell_type": "markdown",
   "id": "4a737e40-7d81-4c01-9182-16dc6d35d315",
   "metadata": {},
   "source": [
    "## 2. Continuous Metrics\n",
    "Let's consider average revenue per customer. We randomly show visitors one of two possible layouts of our website, and based on how much revenue each user generates in a month we want to determine if one of the two layouts is more efficient."
   ]
  },
  {
   "cell_type": "code",
   "execution_count": 7,
   "id": "84f5a031-8580-4e07-afd0-2ac0982de5dc",
   "metadata": {},
   "outputs": [
    {
     "name": "stdout",
     "output_type": "stream",
     "text": [
      "- Observations:\n",
      "  - Version A: = [200 150 250 350 150 150 350 250 150 250 150 150 200   0   0 100  50]\n",
      "  - Version B: = [300 150 150 400 250 250 150 200 250 150 300 200 250 200]\n",
      "\n",
      "- Distribution plot:\n"
     ]
    },
    {
     "data": {
      "image/png": "[encoded data removed]",
      "text/plain": [
       "<Figure size 432x216 with 1 Axes>"
      ]
     },
     "metadata": {
      "needs_background": "light"
     },
     "output_type": "display_data"
    }
   ],
   "source": [
    "np.random.seed(42)\n",
    "\n",
    "n_x, n_y = 17, 14\n",
    "\n",
    "d1 = norm(loc=200, scale=100)\n",
    "d2 = norm(loc=280, scale=90)\n",
    "\n",
    "disc = 50\n",
    "x = (d1.rvs(size=n_x) / disc).astype(int) * disc\n",
    "y = (d2.rvs(size=n_y) / disc).astype(int) * disc\n",
    "\n",
    "\n",
    "print(\"- Observations:\")\n",
    "print(f\"  - Version A: = {x}\")\n",
    "print(f\"  - Version B: = {y}\")\n",
    "print(\"\")\n",
    "print(f\"- Distribution plot:\")\n",
    "f, ax = plt.subplots(figsize=(6, 3))\n",
    "for i, (x_, l_, c_) in enumerate(zip([x, y], [\"A\", \"B\"], [\"tab:blue\", \"tab:olive\"])):\n",
    "    v, c = np.unique(x_, return_counts=True)\n",
    "    ax.bar(v-5+10*i, c, width=10, label=l_, color=c_)\n",
    "\n",
    "ax.set_xlabel(\"purchase in $\")\n",
    "ax.set_ylabel(\"count\")\n",
    "ax.legend();"
   ]
  },
  {
   "cell_type": "markdown",
   "id": "d237b359-5b48-473f-88a1-6b85c4603468",
   "metadata": {},
   "source": [
    "- nX = 17 users saw the layout A, and then made the following purchases: \n",
    "\n",
    "200$, 150$, 250$, 350$, 150$, 150$, 350$, 250$, 150$, 250$, 150$, 150$, 200$, 0$, 0$, 100$, 50$\n",
    "\n",
    "\n",
    "- nX = 14 users saw the layout B, and then made the following purchases: \n",
    "\n",
    "300$, 150$, 150$, 400$, 250$, 250$, 150$, 200$, 250$, 150$, 300$, 200$, 250$, 200$\n",
    "\n",
    "It looks like B was more effective but how statistically significant is this discrepancy?"
   ]
  },
  {
   "cell_type": "markdown",
   "id": "71bcda11-28b3-4dfd-812d-87ab3199e8a8",
   "metadata": {},
   "source": [
    "### 2a. Z-test\n",
    "**Z-test**: can be applied under the following assumptions\n",
    "\n",
    "    - the observations are normally distributed (or the sample size is large)\n",
    "    - the sampling distributions have known variance σX and σY\n",
    "    \n",
    "Under the above assumptions, the Z-test relies on the observation that the following Z statistic has a standard normal distribution."
   ]
  },
  {
   "cell_type": "code",
   "execution_count": 8,
   "id": "15010d86-d952-4cee-85bb-802202ae4e5b",
   "metadata": {},
   "outputs": [],
   "source": [
    "def plot_pval(distribution, t_val, xlims=(-5, 5), ylims=(0, 0.5)):\n",
    "    xxx = np.linspace(*xlims, 1000)\n",
    "    f, ax = plt.subplots(figsize=(4,3))\n",
    "    ax.plot(xxx, distribution.pdf(xxx))\n",
    "    ax.set_ylim(ylims)\n",
    "    ax.vlines(t_val, 0, stat_distrib.pdf(t_val), color='orange')\n",
    "    ax.plot(t_val, stat_distrib.pdf(t_val), 'o', color='orange')\n",
    "    xp = xxx <= t_val\n",
    "    ax.fill_between(xxx[xp], xxx[xp] * 0, stat_distrib.pdf(xxx[xp]), color='r')\n",
    "    xp = xxx >= -t_val\n",
    "    ax.fill_between(xxx[xp], xxx[xp] * 0, stat_distrib.pdf(xxx[xp]), color='r')\n",
    "    ax.set_ylabel(\"prob denisty\")\n",
    "    f.tight_layout()\n",
    "    return f, ax"
   ]
  },
  {
   "cell_type": "code",
   "execution_count": 10,
   "id": "334da1e3-491d-4883-82f5-79d24fbd6ee0",
   "metadata": {},
   "outputs": [
    {
     "name": "stdout",
     "output_type": "stream",
     "text": [
      "- Z-test:\n",
      "   - z value: -1.697\n",
      "   - p-value: 9.0%\n"
     ]
    },
    {
     "data": {
      "image/png": "[encoded data removed]",
      "text/plain": [
       "<Figure size 288x216 with 1 Axes>"
      ]
     },
     "metadata": {
      "needs_background": "light"
     },
     "output_type": "display_data"
    }
   ],
   "source": [
    "# Known standard deviations\n",
    "s_x = 100\n",
    "s_y = 90\n",
    "\n",
    "# Z value\n",
    "z_val = (x.mean() - y.mean()) / np.sqrt(s_x**2/n_x + s_y**2/n_y)\n",
    "\n",
    "# Test statistic distribution under null hypothesis H0\n",
    "stat_distrib = norm(loc=0, scale=1)\n",
    "\n",
    "# p-value\n",
    "p_val = stat_distrib.cdf(z_val) * 2\n",
    "\n",
    "print(\"- Z-test:\")\n",
    "print(f\"   - z value: {z_val:.3f}\")\n",
    "print(f\"   - p-value: {p_val*100:.1f}%\")\n",
    "plot_pval(stat_distrib, z_val);"
   ]
  },
  {
   "cell_type": "markdown",
   "id": "104c9c3e-8ad1-4577-a125-921943e61dda",
   "metadata": {},
   "source": [
    "Unfortunately in most real applications the standard deviations are unknown and must be estimated, so a t-test is preferable. If in our case we knew the true value of σX=100 and σX=90, then we would obtain:\n",
    "- z ≈ -1.697\n",
    "- which corresponds to a p-value ≈ 9%"
   ]
  },
  {
   "cell_type": "markdown",
   "id": "31ab9d5c-d3a0-4d07-9bdf-0b23f1817838",
   "metadata": {},
   "source": [
    "### 2b. Student's T-Test\n",
    "**Student's T-Test**: A t-test is the most commonly applied when the test statistic would follow a normal distribution if the value of a scaling term in the test statistic were known.  If the population variance is unknown (and therefore has to be estimated from the sample itself) and the sample size is not large (n < 30), the Student's t-test may be more appropriate over a Z-test."
   ]
  },
  {
   "cell_type": "code",
   "execution_count": null,
   "id": "46b0b03b-b31e-4807-9f68-dd65579c0178",
   "metadata": {},
   "outputs": [],
   "source": []
  },
  {
   "cell_type": "code",
   "execution_count": null,
   "id": "cac7e1db-5998-43b5-87f7-036ca70dc6cc",
   "metadata": {},
   "outputs": [],
   "source": []
  },
  {
   "cell_type": "code",
   "execution_count": null,
   "id": "93cc1b9b-51ec-46af-9f4e-dec5fd3974ee",
   "metadata": {},
   "outputs": [],
   "source": []
  },
  {
   "cell_type": "code",
   "execution_count": null,
   "id": "45d54a83-26d4-4dd8-b38f-c005984ed289",
   "metadata": {},
   "outputs": [],
   "source": []
  }
 ],
 "metadata": {
  "kernelspec": {
   "display_name": "Python 3",
   "language": "python",
   "name": "python3"
  },
  "language_info": {
   "codemirror_mode": {
    "name": "ipython",
    "version": 3
   },
   "file_extension": ".py",
   "mimetype": "text/x-python",
   "name": "python",
   "nbconvert_exporter": "python",
   "pygments_lexer": "ipython3",
   "version": "3.8.8"
  }
 },
 "nbformat": 4,
 "nbformat_minor": 5
}
