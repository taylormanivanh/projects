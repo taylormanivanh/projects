{
 "cells": [
  {
   "cell_type": "markdown",
   "id": "5b5efb91-37b1-462c-a91f-ffc128ab5335",
   "metadata": {},
   "source": [
    "Taylor Manivanh\n",
    "8/23/2022\n",
    "AB Testing\n",
    "\n",
    "# A/B Testing\n",
    "\n",
    "[A/B Testing Dataset from Kaggle](https://www.kaggle.com/datasets/zhangluyuan/ab-testing?select=ab_data.csv)\n",
    "\n",
    "Dataset Information:\n",
    "- user_id: A unique user ID number.\n",
    "- timestamp: The date said user interacted with the website.\n",
    "- group: Control if the user landed on the old page, Treatment if the user landed on the new page.\n",
    "- landing_page: New page or old page.\n",
    "- converted: Conversion status of the user.\n",
    "\n",
    "Null Hypothesis: There is no significant difference between the two webpages shown\n",
    "\n",
    "Alternate Hypothesis: There is significant difference between the two webpages shown"
   ]
  },
  {
   "cell_type": "code",
   "execution_count": 1,
   "id": "d9838f93-4322-4f7a-8f9d-5c385ef7bd55",
   "metadata": {},
   "outputs": [],
   "source": [
    "# Import Statements\n",
    "import pandas as pd\n",
    "from scipy.stats import ttest_1samp, shapiro, levene, ttest_ind, mannwhitneyu\n",
    "from statsmodels.stats.proportion import proportions_ztest\n",
    "\n",
    "pd.set_option('display.max_columns', None)\n",
    "pd.set_option('display.max_rows', 10)\n",
    "pd.set_option('display.float_format', lambda x: '%.5f' % x)\n",
    "df = pd.read_csv(\"ab_data.csv\")"
   ]
  },
  {
   "cell_type": "code",
   "execution_count": 3,
   "id": "7737d3ec-8ca9-42a6-a1d0-83302688f979",
   "metadata": {},
   "outputs": [
    {
     "data": {
      "text/html": [
       "<div>\n",
       "<style scoped>\n",
       "    .dataframe tbody tr th:only-of-type {\n",
       "        vertical-align: middle;\n",
       "    }\n",
       "\n",
       "    .dataframe tbody tr th {\n",
       "        vertical-align: top;\n",
       "    }\n",
       "\n",
       "    .dataframe thead th {\n",
       "        text-align: right;\n",
       "    }\n",
       "</style>\n",
       "<table border=\"1\" class=\"dataframe\">\n",
       "  <thead>\n",
       "    <tr style=\"text-align: right;\">\n",
       "      <th></th>\n",
       "      <th>user_id</th>\n",
       "      <th>timestamp</th>\n",
       "      <th>group</th>\n",
       "      <th>landing_page</th>\n",
       "      <th>converted</th>\n",
       "    </tr>\n",
       "  </thead>\n",
       "  <tbody>\n",
       "    <tr>\n",
       "      <th>0</th>\n",
       "      <td>851104</td>\n",
       "      <td>2017-01-21 22:11:48.556739</td>\n",
       "      <td>control</td>\n",
       "      <td>old_page</td>\n",
       "      <td>0</td>\n",
       "    </tr>\n",
       "    <tr>\n",
       "      <th>1</th>\n",
       "      <td>804228</td>\n",
       "      <td>2017-01-12 08:01:45.159739</td>\n",
       "      <td>control</td>\n",
       "      <td>old_page</td>\n",
       "      <td>0</td>\n",
       "    </tr>\n",
       "    <tr>\n",
       "      <th>2</th>\n",
       "      <td>661590</td>\n",
       "      <td>2017-01-11 16:55:06.154213</td>\n",
       "      <td>treatment</td>\n",
       "      <td>new_page</td>\n",
       "      <td>0</td>\n",
       "    </tr>\n",
       "    <tr>\n",
       "      <th>3</th>\n",
       "      <td>853541</td>\n",
       "      <td>2017-01-08 18:28:03.143765</td>\n",
       "      <td>treatment</td>\n",
       "      <td>new_page</td>\n",
       "      <td>0</td>\n",
       "    </tr>\n",
       "    <tr>\n",
       "      <th>4</th>\n",
       "      <td>864975</td>\n",
       "      <td>2017-01-21 01:52:26.210827</td>\n",
       "      <td>control</td>\n",
       "      <td>old_page</td>\n",
       "      <td>1</td>\n",
       "    </tr>\n",
       "  </tbody>\n",
       "</table>\n",
       "</div>"
      ],
      "text/plain": [
       "   user_id                   timestamp      group landing_page  converted\n",
       "0   851104  2017-01-21 22:11:48.556739    control     old_page          0\n",
       "1   804228  2017-01-12 08:01:45.159739    control     old_page          0\n",
       "2   661590  2017-01-11 16:55:06.154213  treatment     new_page          0\n",
       "3   853541  2017-01-08 18:28:03.143765  treatment     new_page          0\n",
       "4   864975  2017-01-21 01:52:26.210827    control     old_page          1"
      ]
     },
     "execution_count": 3,
     "metadata": {},
     "output_type": "execute_result"
    }
   ],
   "source": [
    "df.head()"
   ]
  },
  {
   "cell_type": "markdown",
   "id": "fae4b5df-5bab-4acd-9d88-5120a5aed736",
   "metadata": {},
   "source": [
    "## 1. Assumption of Normality & Homogeneity of Variance\n",
    "\n",
    "#### Assumption of Normality: \n",
    "Asserts that the distribution of sample means (across independent samples) is normal.\n",
    "\n",
    "**The Shapiro-Wilk Test**: The null-hypothesis of this test is that the population is normally distributed. Thus, if the p value is less than the chosen alpha level, then the null hypothesis is rejected and there is evidence that the data tested are not normally distributed. On the other hand, if the p value is greater than the chosen alpha level, then the null hypothesis (that the data came from a normally distributed population) can not be rejected\n",
    "\n",
    "#### Homogeneity of Variance: \n",
    "Assumption that state population distributioon of scores around the mean of 2 or more samples are equal. All its random variables should have the same finite variance.\n",
    "\n",
    "**The Levene Test**: An inferential statistic used to assess the equality of variances for a variable calculated for two or more groups. The null-hypothesis of this test is that the variances are homogenic and the alternate hypothesis is that the variances are not homogenic"
   ]
  },
  {
   "cell_type": "code",
   "execution_count": 8,
   "id": "2b51265a-f4b7-4fe5-8e93-a70b7c0bf306",
   "metadata": {},
   "outputs": [
    {
     "name": "stdout",
     "output_type": "stream",
     "text": [
      "Test Statistic: 0.37702, p-value: 0.0\n",
      "Test Statistic: 1.52997, p-value: 0.21612\n"
     ]
    }
   ],
   "source": [
    "# Assumption of Normality\n",
    "test_stat, pvalue = shapiro(df.loc[df[\"group\"] == \"treatment\", \"converted\"])\n",
    "print(f'Test Statistic: {round(test_stat,5)}, p-value: {round(pvalue, 5)}')\n",
    "\n",
    "# Homogeneity of Variance\n",
    "test_stat2, pvalue2 = levene(df.loc[df[\"group\"] == \"treatment\", \"converted\"],\n",
    "                            df.loc[df[\"group\"] == \"control\", \"converted\"])\n",
    "print(f'Test Statistic: {round(test_stat2,5)}, p-value: {round(pvalue2, 5)}')"
   ]
  },
  {
   "cell_type": "markdown",
   "id": "32f31867-60af-426b-a270-d218956ba2b8",
   "metadata": {},
   "source": [
    "p value < 0.05 means null hypothesis (H0) is rejected\n",
    "\n",
    "- Normality: null hypothesis is rejected. Data is not normally distributed.\n",
    "- Homogeneity: null hypothesis is not rejected. Variances are homogenic.\n",
    "\n",
    "\n",
    "## 1a. Mann-Whitney U Test\n",
    "When the assumption of normality is rejected, we use the non-parametric method or the Mann-Whitney U Test.\n",
    "\n",
    "**Mann-Whitney U Test**: A nonparametric test of the null hypothesis that, for randomly selected values X and Y from two populations, the probability of X being greater than Y is equal to the probability of Y being greater than X. \n",
    "- Null Hypothesis: There is not a significant statistical difference between the two groups\n",
    "- Alternate Hypothesis: There is a significant statistical difference between the two groups\n"
   ]
  },
  {
   "cell_type": "code",
   "execution_count": 9,
   "id": "641dc0db-be24-4121-852e-40b9ac11a0f7",
   "metadata": {},
   "outputs": [
    {
     "name": "stdout",
     "output_type": "stream",
     "text": [
      "Test Statistic: 10823622516.0, p-value: 0.10806\n"
     ]
    }
   ],
   "source": [
    "# Data is discrete so manwhitneyu test is used\n",
    "test_stat3, pvalue3 = mannwhitneyu(df.loc[df[\"group\"] == \"treatment\", \"converted\"],\n",
    "                                    df.loc[df[\"group\"] == \"control\", \"converted\"])\n",
    "print(f'Test Statistic: {round(test_stat3,5)}, p-value: {round(pvalue3, 5)}')"
   ]
  },
  {
   "cell_type": "markdown",
   "id": "adb45c85-24d1-4089-b65d-4a319b37acae",
   "metadata": {},
   "source": [
    "p value is greater than 0.05 so the null hypothesis cannot be rejected. \n",
    "\n",
    "Thus there is not a significant statistical difference between the old and new web pages."
   ]
  },
  {
   "cell_type": "markdown",
   "id": "1d6ad747-0b92-4f3e-a954-49f050e803a1",
   "metadata": {},
   "source": [
    "## 2. Another Way to Test - Two Proportions Z-Test\n",
    "**Two Proportion Z-Test**: a statistical hypothesis test used to determine whether two proportions are different from each other. While performing the test, Z-statistics is computed from two independent samples and the null hypothesis is that the two proportions are equal.\n",
    "\n",
    "- Null Hypothesis: There is not a significant statistical difference between the two proportions\n",
    "- Alternate Hypothesis: There is a significant statistical difference between the two proportions"
   ]
  },
  {
   "cell_type": "code",
   "execution_count": 10,
   "id": "6e481bf5-0be3-4b73-8cf6-e9eb678021a9",
   "metadata": {},
   "outputs": [
    {
     "name": "stdout",
     "output_type": "stream",
     "text": [
      "Test Statistic: 1.23692, p-value: 0.21612\n"
     ]
    }
   ],
   "source": [
    "# Independent and non-homogenic\n",
    "old_page_convert = df.loc[df[\"group\"] == \"control\", \"converted\"].sum()\n",
    "new_page_convert = df.loc[df[\"group\"] == \"treatment\", \"converted\"].sum()\n",
    "\n",
    "test_stat4, pvalue4 = proportions_ztest(count=[old_page_convert, new_page_convert],\n",
    "                                    nobs=[df.loc[df[\"group\"] == \"control\", \"converted\"].shape[0],\n",
    "                                          df.loc[df[\"group\"] == \"treatment\", \"converted\"].shape[0]])\n",
    "print(f'Test Statistic: {round(test_stat4,5)}, p-value: {round(pvalue4, 5)}')"
   ]
  },
  {
   "cell_type": "markdown",
   "id": "72bb49b4-8a78-418a-a891-b5a41aeff481",
   "metadata": {},
   "source": [
    "However, while the Ztest is used when two independent actors are in play (like this scenario), keep in mind that to use the Ztest, we need the assumption of normality to not be rejected (unlike this scenario)."
   ]
  },
  {
   "cell_type": "code",
   "execution_count": null,
   "id": "cb05858f-3c7c-4d6c-83fb-e402b98623a3",
   "metadata": {},
   "outputs": [],
   "source": []
  },
  {
   "cell_type": "code",
   "execution_count": null,
   "id": "fe8ac8be-bcc1-46e6-974d-3ff9ceddbe3c",
   "metadata": {},
   "outputs": [],
   "source": []
  }
 ],
 "metadata": {
  "kernelspec": {
   "display_name": "Python 3",
   "language": "python",
   "name": "python3"
  },
  "language_info": {
   "codemirror_mode": {
    "name": "ipython",
    "version": 3
   },
   "file_extension": ".py",
   "mimetype": "text/x-python",
   "name": "python",
   "nbconvert_exporter": "python",
   "pygments_lexer": "ipython3",
   "version": "3.8.8"
  }
 },
 "nbformat": 4,
 "nbformat_minor": 5
}
