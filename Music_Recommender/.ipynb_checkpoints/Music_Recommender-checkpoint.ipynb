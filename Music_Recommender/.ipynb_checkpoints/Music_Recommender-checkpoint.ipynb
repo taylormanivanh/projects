{
 "cells": [
  {
   "cell_type": "markdown",
   "id": "7152c139-dac8-4ba4-a5d6-c9a8be1c2ac6",
   "metadata": {},
   "source": [
    "Taylor Manivanh\n",
    "\n",
    "8/27/2022\n",
    "\n",
    "Music Recommender\n",
    "\n",
    "# Spotify Music Recommender\n",
    "Analyze Spotify Music data for details on genre, tempo, popularity, etc. to determine trends between songs and recommend a playlist of similar songs.\n",
    "\n",
    "### [0. Import Statements](#import)\n",
    "### [1. Music Data](#music_data)"
   ]
  },
  {
   "cell_type": "markdown",
   "id": "0becf709-9208-4f36-a7db-f72790a6563d",
   "metadata": {},
   "source": [
    "<a id='import'></a>\n",
    "## 0. Import Statements"
   ]
  },
  {
   "cell_type": "code",
   "execution_count": 1,
   "id": "cf6b26b3-dc4d-4930-87f0-55cdea8c6a59",
   "metadata": {
    "collapsed": true,
    "jupyter": {
     "outputs_hidden": true
    },
    "tags": []
   },
   "outputs": [
    {
     "name": "stdout",
     "output_type": "stream",
     "text": [
      "Collecting spotipy\n",
      "  Downloading spotipy-2.20.0-py3-none-any.whl (27 kB)\n",
      "Requirement already satisfied: requests>=2.25.0 in /Library/Frameworks/Python.framework/Versions/3.7/lib/python3.7/site-packages (from spotipy) (2.28.1)\n",
      "Collecting redis>=3.5.3\n",
      "  Downloading redis-4.3.4-py3-none-any.whl (246 kB)\n",
      "\u001b[2K     \u001b[90m━━━━━━━━━━━━━━━━━━━━━━━━━━━━━━━━━━━━━━━\u001b[0m \u001b[32m246.2/246.2 kB\u001b[0m \u001b[31m4.9 MB/s\u001b[0m eta \u001b[36m0:00:00\u001b[0m00:01\u001b[0m\n",
      "\u001b[?25hCollecting urllib3>=1.26.0\n",
      "  Downloading urllib3-1.26.12-py2.py3-none-any.whl (140 kB)\n",
      "\u001b[2K     \u001b[90m━━━━━━━━━━━━━━━━━━━━━━━━━━━━━━━━━━━━━━━\u001b[0m \u001b[32m140.4/140.4 kB\u001b[0m \u001b[31m5.2 MB/s\u001b[0m eta \u001b[36m0:00:00\u001b[0m\n",
      "\u001b[?25hCollecting six>=1.15.0\n",
      "  Downloading six-1.16.0-py2.py3-none-any.whl (11 kB)\n",
      "Requirement already satisfied: importlib-metadata>=1.0 in /Library/Frameworks/Python.framework/Versions/3.7/lib/python3.7/site-packages (from redis>=3.5.3->spotipy) (4.12.0)\n",
      "Collecting deprecated>=1.2.3\n",
      "  Downloading Deprecated-1.2.13-py2.py3-none-any.whl (9.6 kB)\n",
      "Requirement already satisfied: typing-extensions in /Library/Frameworks/Python.framework/Versions/3.7/lib/python3.7/site-packages (from redis>=3.5.3->spotipy) (4.3.0)\n",
      "Collecting async-timeout>=4.0.2\n",
      "  Downloading async_timeout-4.0.2-py3-none-any.whl (5.8 kB)\n",
      "Requirement already satisfied: packaging>=20.4 in /Library/Frameworks/Python.framework/Versions/3.7/lib/python3.7/site-packages (from redis>=3.5.3->spotipy) (21.3)\n",
      "Requirement already satisfied: charset-normalizer<3,>=2 in /Library/Frameworks/Python.framework/Versions/3.7/lib/python3.7/site-packages (from requests>=2.25.0->spotipy) (2.1.1)\n",
      "Requirement already satisfied: idna<4,>=2.5 in /Library/Frameworks/Python.framework/Versions/3.7/lib/python3.7/site-packages (from requests>=2.25.0->spotipy) (3.3)\n",
      "Requirement already satisfied: certifi>=2017.4.17 in /Library/Frameworks/Python.framework/Versions/3.7/lib/python3.7/site-packages (from requests>=2.25.0->spotipy) (2019.9.11)\n",
      "Collecting wrapt<2,>=1.10\n",
      "  Downloading wrapt-1.14.1-cp37-cp37m-macosx_10_9_x86_64.whl (34 kB)\n",
      "Requirement already satisfied: zipp>=0.5 in /Library/Frameworks/Python.framework/Versions/3.7/lib/python3.7/site-packages (from importlib-metadata>=1.0->redis>=3.5.3->spotipy) (3.8.1)\n",
      "Requirement already satisfied: pyparsing!=3.0.5,>=2.0.2 in /Library/Frameworks/Python.framework/Versions/3.7/lib/python3.7/site-packages (from packaging>=20.4->redis>=3.5.3->spotipy) (2.3.1)\n",
      "Installing collected packages: wrapt, urllib3, six, async-timeout, deprecated, redis, spotipy\n",
      "  Attempting uninstall: urllib3\n",
      "    Found existing installation: urllib3 1.22\n",
      "    Uninstalling urllib3-1.22:\n",
      "      Successfully uninstalled urllib3-1.22\n",
      "  Attempting uninstall: six\n",
      "    Found existing installation: six 1.12.0\n",
      "    Uninstalling six-1.12.0:\n",
      "      Successfully uninstalled six-1.12.0\n",
      "  Attempting uninstall: async-timeout\n",
      "    Found existing installation: async-timeout 3.0.1\n",
      "    Uninstalling async-timeout-3.0.1:\n",
      "      Successfully uninstalled async-timeout-3.0.1\n",
      "\u001b[31mERROR: pip's dependency resolver does not currently take into account all the packages that are installed. This behaviour is the source of the following dependency conflicts.\n",
      "aiohttp 3.5.4 requires async-timeout<4.0,>=3.0, but you have async-timeout 4.0.2 which is incompatible.\u001b[0m\u001b[31m\n",
      "\u001b[0mSuccessfully installed async-timeout-4.0.2 deprecated-1.2.13 redis-4.3.4 six-1.16.0 spotipy-2.20.0 urllib3-1.26.12 wrapt-1.14.1\n"
     ]
    }
   ],
   "source": [
    "!pip install spotipy"
   ]
  },
  {
   "cell_type": "code",
   "execution_count": 6,
   "id": "8aa4fb80-844e-4b32-8ed3-8bc5ce6e8089",
   "metadata": {},
   "outputs": [],
   "source": [
    "import pandas as pd\n",
    "import numpy as np\n",
    "import matplotlib.pyplot as plt\n",
    "import seaborn as sns\n",
    "import spotipy\n",
    "%matplotlib inline"
   ]
  },
  {
   "cell_type": "markdown",
   "id": "47157bad-2fdf-4886-9519-402656cef619",
   "metadata": {},
   "source": [
    "<a id='music_data'></a>\n",
    "## 1. Music Data\n",
    "Spotify data sourced from [Kaggle](https://www.kaggle.com/datasets/vatsalmavani/spotify-dataset?resource=download)\n",
    "\n",
    "Initial view of datasets and columns included in each.\n",
    "Datasets:\n",
    "\n",
    "    a. data\n",
    "    b. data_by_artists\n",
    "    c. data_by_genre\n",
    "    d. data_by_year\n",
    "    e. data_w_genres\n",
    "        "
   ]
  },
  {
   "cell_type": "code",
   "execution_count": null,
   "id": "e892406a-777a-4233-8f75-3d0917561af2",
   "metadata": {},
   "outputs": [],
   "source": []
  }
 ],
 "metadata": {
  "kernelspec": {
   "display_name": "Python 3 (ipykernel)",
   "language": "python",
   "name": "python3"
  },
  "language_info": {
   "codemirror_mode": {
    "name": "ipython",
    "version": 3
   },
   "file_extension": ".py",
   "mimetype": "text/x-python",
   "name": "python",
   "nbconvert_exporter": "python",
   "pygments_lexer": "ipython3",
   "version": "3.7.3"
  }
 },
 "nbformat": 4,
 "nbformat_minor": 5
}
