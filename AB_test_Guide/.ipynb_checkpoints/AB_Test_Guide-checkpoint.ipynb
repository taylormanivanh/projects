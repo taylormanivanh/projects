{
 "cells": [
  {
   "cell_type": "markdown",
   "id": "cde28839-bfd5-4b8c-ad04-cf6d82b12da0",
   "metadata": {},
   "source": [
    "Taylor Manivanh\n",
    "8/23/2022\n",
    "AB Testing\n",
    "\n",
    "# What is A/B testing?\n",
    "\n",
    "A/B testing is one of the most popular controlled experiments used to optimize web marketing strategies. It allows decision makers to choose the best design for a website by looking at the analytics results obtained with two possible alternatives A and B.\n",
    "\n",
    "**A/B Testing Methodology**\n",
    "- Visitors of a website are randomly served with one of the two designs (A and B)\n",
    "- Data about their activity is collected by web analytics\n",
    "- Given this data, one can apply statistical tests to determine whether one of the two designs has better efficacy\n",
    "\n",
    "**Website Efficacy**\n",
    "Discrete metrics (aka binomial metrics) have only the two possible values of 0 and 1\n",
    "- Click through rate: if a user is shown an advertisement, do they click on it?\n",
    "- Conversion rate: If a user is shown an advert, do they convert into customers?\n",
    "- Bounce rate: if a user visits a website, is the following visited page on the same website?\n",
    "\n",
    "Continuous metrics (aka nonbinomial metrics) may take continuous values that are not limited to a set two discrete states\n",
    "- Average revenue per user: how much revenue does a user generate in a month?\n",
    "- Average session duration: how long does a user stay on a website in a session?\n",
    "- Average order value: what is the total value of the order of a user?\n",
    "\n",
    "**Statistical Significance**\n",
    "- It is fundamental to determine how likely it is that the observed discrepancy between the two samples originates from chance."
   ]
  },
  {
   "cell_type": "code",
   "execution_count": 1,
   "id": "aa524878-9423-4dbe-a48a-74c11f74c051",
   "metadata": {},
   "outputs": [],
   "source": [
    "# Import Statements\n",
    "import matplotlib.pyplot as plt\n",
    "import numpy as np\n",
    "import pandas as pd\n",
    "from scipy.special import binom\n",
    "from scipy.stats import chi2_contingency, mannwhitneyu, norm, t, ttest_ind\n",
    "\n",
    "%matplotlib inline"
   ]
  },
  {
   "cell_type": "markdown",
   "id": "c6a4877d-d914-4402-a82f-7ce4a7e350f4",
   "metadata": {},
   "source": [
    "## 1. Two Sample Hypothesis Test\n",
    "A two tailed test is a significance test in which alternative hypothesis has two ends. It determines that there is a relationship between variables in either direction. \n",
    "\n",
    "- Null Hypothesis: There is no significant difference between the efficacy of A and B\n",
    "- Alternate Hypothesis: There is a significant difference between the efficacy of A and B\n",
    "- p-value: is computed as the area under the two tails fo the probability density dunction (p(x)) of a chosen test statistic on all x's to p(x') <= p(our observation)\n",
    "    - The computation of such p-value clearly depends on the data distribution"
   ]
  },
  {
   "cell_type": "markdown",
   "id": "adc007ef-7eed-4cee-b6aa-0ee138b4db9f",
   "metadata": {},
   "source": [
    "### 1a. Discrete Metrics\n",
    "\n",
    "Looking at click-though rate. We randomly show visitors one of two possible designs of an advertisement, and based on how many of them click on it we need to determine whether our data significantly contradict the hypothesis that the two designs are equivalently efficient."
   ]
  },
  {
   "cell_type": "code",
   "execution_count": 2,
   "id": "a638c785-68ba-4c2c-a223-b90e2f6b2d67",
   "metadata": {},
   "outputs": [
    {
     "name": "stdout",
     "output_type": "stream",
     "text": [
      "- Observations:\n",
      "  - Version A: = [1 0 0 1 1 1 1 0 0 0 1 0 0 1 1]\n",
      "  - Version B: = [0 0 0 0 0 1 0 0 0 0 1 0 0 0 0 1 0 0 1]\n",
      "\n",
      "- Contingency table:\n"
     ]
    },
    {
     "data": {
      "text/html": [
       "<div>\n",
       "<style scoped>\n",
       "    .dataframe tbody tr th:only-of-type {\n",
       "        vertical-align: middle;\n",
       "    }\n",
       "\n",
       "    .dataframe tbody tr th {\n",
       "        vertical-align: top;\n",
       "    }\n",
       "\n",
       "    .dataframe thead th {\n",
       "        text-align: right;\n",
       "    }\n",
       "</style>\n",
       "<table border=\"1\" class=\"dataframe\">\n",
       "  <thead>\n",
       "    <tr style=\"text-align: right;\">\n",
       "      <th></th>\n",
       "      <th>A</th>\n",
       "      <th>B</th>\n",
       "    </tr>\n",
       "  </thead>\n",
       "  <tbody>\n",
       "    <tr>\n",
       "      <th>click</th>\n",
       "      <td>7</td>\n",
       "      <td>15</td>\n",
       "    </tr>\n",
       "    <tr>\n",
       "      <th>no click</th>\n",
       "      <td>8</td>\n",
       "      <td>4</td>\n",
       "    </tr>\n",
       "  </tbody>\n",
       "</table>\n",
       "</div>"
      ],
      "text/plain": [
       "          A   B\n",
       "click     7  15\n",
       "no click  8   4"
      ]
     },
     "metadata": {},
     "output_type": "display_data"
    }
   ],
   "source": [
    "np.random.seed(42)\n",
    "\n",
    "x = np.random.binomial(n=1, p=0.6, size=15)\n",
    "y = np.random.binomial(n=1, p=0.4, size=19)\n",
    "\n",
    "_, (a, c) = np.unique(x, return_counts=True)\n",
    "_, (b, d) = np.unique(y, return_counts=True)\n",
    "\n",
    "df = pd.DataFrame(data=[[a, b], [c, d]], \n",
    "                 index=[\"click\", \"no click\"], \n",
    "                 columns=[\"A\", \"B\"])\n",
    "m = df.values\n",
    "\n",
    "print(\"- Observations:\")\n",
    "print(f\"  - Version A: = {x}\")\n",
    "print(f\"  - Version B: = {y}\")\n",
    "print(\"\")\n",
    "print(\"- Contingency table:\")\n",
    "display(df)"
   ]
  },
  {
   "cell_type": "markdown",
   "id": "88eb16dc-56fc-4fca-87ef-fce60cb59c7a",
   "metadata": {},
   "source": [
    "- nX = 15 visitors saw the advertisement A, and 7 of them clicked on it.\n",
    "- nY = 19 visitors saw the advertisement B, and 15 of them clicked on it.\n",
    "\n",
    "Looks like B was more effective, but how statistically siginificant is this discrepancy?"
   ]
  },
  {
   "cell_type": "markdown",
   "id": "a91aaab0-5ac8-43fb-ab0f-f418e1c7b5ff",
   "metadata": {},
   "source": [
    "### 1b. Fisher's Exact Test\n",
    "**Fisher's Exact Test**: statistical significance test used in the analysis of contingency tables. It is used to examine the significance of the association (contingency) between the two kinds of classification."
   ]
  },
  {
   "cell_type": "code",
   "execution_count": null,
   "id": "1a2ff022-2a8b-4526-ae0c-18332b84948f",
   "metadata": {},
   "outputs": [],
   "source": []
  },
  {
   "cell_type": "code",
   "execution_count": null,
   "id": "1db4b6c1-54b1-4b8c-baaf-a2e6e7fc2da2",
   "metadata": {},
   "outputs": [],
   "source": []
  }
 ],
 "metadata": {
  "kernelspec": {
   "display_name": "Python 3",
   "language": "python",
   "name": "python3"
  },
  "language_info": {
   "codemirror_mode": {
    "name": "ipython",
    "version": 3
   },
   "file_extension": ".py",
   "mimetype": "text/x-python",
   "name": "python",
   "nbconvert_exporter": "python",
   "pygments_lexer": "ipython3",
   "version": "3.8.8"
  }
 },
 "nbformat": 4,
 "nbformat_minor": 5
}
